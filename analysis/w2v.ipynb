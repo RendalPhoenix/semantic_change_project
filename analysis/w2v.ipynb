{
 "cells": [
  {
   "cell_type": "code",
   "execution_count": 1,
   "metadata": {},
   "outputs": [],
   "source": [
    "import re  \n",
    "import pandas as pd  \n",
    "from time import time  \n",
    "from collections import defaultdict  \n",
    "import numpy as np\n",
    "from scipy.spatial.distance import cosine\n",
    "basecsvpath=\"data/w2v_models\"\n",
    "from gensim.models import Word2Vec"
   ]
  },
  {
   "cell_type": "code",
   "execution_count": 2,
   "metadata": {},
   "outputs": [],
   "source": [
    "years=['2008','2016','2020']\n",
    "model_2008 = Word2Vec.load(basecsvpath+\"_\"+years[0]+\"_word2vec_full.model\")\n",
    "model_2016 = Word2Vec.load(basecsvpath+\"_\"+years[1]+\"_word2vec_full.model\")\n",
    "model_2020 = Word2Vec.load(basecsvpath+\"_\"+years[2]+\"_word2vec_full.model\")\n",
    "\n"
   ]
  },
  {
   "cell_type": "markdown",
   "metadata": {},
   "source": [
    "#### Procrustes alignment for the models\n",
    "code from https://gist.github.com/quadrismegistus/09a93e219a6ffc4f216fb85235535faf"
   ]
  },
  {
   "cell_type": "code",
   "execution_count": 3,
   "metadata": {},
   "outputs": [],
   "source": [
    "def smart_procrustes_align_gensim(base_embed, other_embed, words=None):\n",
    "    \"\"\"\n",
    "    Original script: https://gist.github.com/quadrismegistus/09a93e219a6ffc4f216fb85235535faf\n",
    "    Procrustes align two gensim word2vec models (to allow for comparison between same word across models).\n",
    "    Code ported from HistWords <https://github.com/williamleif/histwords> by William Hamilton <wleif@stanford.edu>.\n",
    "        \n",
    "    First, intersect the vocabularies (see `intersection_align_gensim` documentation).\n",
    "    Then do the alignment on the other_embed model.\n",
    "    Replace the other_embed model's syn0 and syn0norm numpy matrices with the aligned version.\n",
    "    Return other_embed.\n",
    "    If `words` is set, intersect the two models' vocabulary with the vocabulary in words (see `intersection_align_gensim` documentation).\n",
    "    \"\"\"\n",
    "\n",
    "    # patch by Richard So [https://twitter.com/richardjeanso) (thanks!) to update this code for new version of gensim\n",
    "    # base_embed.init_sims(replace=True)\n",
    "    # other_embed.init_sims(replace=True)\n",
    "\n",
    "    # make sure vocabulary and indices are aligned\n",
    "    in_base_embed, in_other_embed = intersection_align_gensim(base_embed, other_embed, words=words)\n",
    "    # print(in_base_embed.wv.shape)\n",
    "    # print(in_other_embed.wv.shape)\n",
    "    # get the (normalized) embedding matrices\n",
    "\n",
    "    in_base_embed.wv.fill_norms(force=True)\n",
    "    in_other_embed.wv.fill_norms(force=True)\n",
    "\n",
    "    base_vecs = in_base_embed.wv.get_normed_vectors()\n",
    "    other_vecs = in_other_embed.wv.get_normed_vectors()\n",
    "\n",
    "    # just a matrix dot product with numpy\n",
    "    m = other_vecs.T.dot(base_vecs) \n",
    "    # SVD method from numpy\n",
    "    u, _, v = np.linalg.svd(m)\n",
    "    # another matrix operation\n",
    "    ortho = u.dot(v) \n",
    "    # Replace original array with modified one, i.e. multiplying the embedding matrix by \"ortho\"\n",
    "    other_embed.wv.vectors = (other_embed.wv.vectors).dot(ortho)    \n",
    "    \n",
    "    return other_embed\n",
    "\n",
    "def intersection_align_gensim(m1, m2, words=None):\n",
    "    \"\"\"\n",
    "    Intersect two gensim word2vec models, m1 and m2.\n",
    "    Only the shared vocabulary between them is kept.\n",
    "    If 'words' is set (as list or set), then the vocabulary is intersected with this list as well.\n",
    "    Indices are re-organized from 0..N in order of descending frequency (=sum of counts from both m1 and m2).\n",
    "    These indices correspond to the new syn0 and syn0norm objects in both gensim models:\n",
    "        -- so that Row 0 of m1.syn0 will be for the same word as Row 0 of m2.syn0\n",
    "        -- you can find the index of any word on the .index2word list: model.index2word.index(word) => 2\n",
    "    The .vocab dictionary is also updated for each model, preserving the count but updating the index.\n",
    "    \"\"\"\n",
    "\n",
    "    # Get the vocab for each model\n",
    "    vocab_m1 = set(m1.wv.index_to_key)\n",
    "    vocab_m2 = set(m2.wv.index_to_key)\n",
    "\n",
    "    # Find the common vocabulary\n",
    "    common_vocab = vocab_m1 & vocab_m2\n",
    "    if words: common_vocab &= set(words)\n",
    "\n",
    "    # If no alignment necessary because vocab is identical...\n",
    "    if not vocab_m1 - common_vocab and not vocab_m2 - common_vocab:\n",
    "        return (m1,m2)\n",
    "\n",
    "    # Otherwise sort by frequency (summed for both)\n",
    "    common_vocab = list(common_vocab)\n",
    "    common_vocab.sort(key=lambda w: m1.wv.get_vecattr(w, \"count\") + m2.wv.get_vecattr(w, \"count\"), reverse=True)\n",
    "    print(len(common_vocab))\n",
    "\n",
    "    # Then for each model...\n",
    "    for m in [m1, m2]:\n",
    "        # Replace old syn0norm array with new one (with common vocab)\n",
    "        indices = [m.wv.key_to_index[w] for w in common_vocab]\n",
    "        old_arr = m.wv.vectors\n",
    "        new_arr = np.array([old_arr[index] for index in indices])\n",
    "        m.wv.vectors = new_arr\n",
    "\n",
    "        # Replace old vocab dictionary with new one (with common vocab)\n",
    "        # and old index2word with new one\n",
    "        new_key_to_index = {}\n",
    "        new_index_to_key = []\n",
    "        for new_index, key in enumerate(common_vocab):\n",
    "            new_key_to_index[key] = new_index\n",
    "            new_index_to_key.append(key)\n",
    "        m.wv.key_to_index = new_key_to_index\n",
    "        m.wv.index_to_key = new_index_to_key\n",
    "        \n",
    "        print(len(m.wv.key_to_index), len(m.wv.vectors))\n",
    "        \n",
    "    return (m1,m2)"
   ]
  },
  {
   "cell_type": "code",
   "execution_count": null,
   "metadata": {},
   "outputs": [],
   "source": [
    "model_2020_aligned2_08=smart_procrustes_align_gensim(model_2008,model_2020)"
   ]
  },
  {
   "cell_type": "code",
   "execution_count": 5,
   "metadata": {},
   "outputs": [],
   "source": [
    "## get most frequent 2000 words and calculate cosine dist across time\n",
    "vb_2020=set(model_2008.wv.index_to_key[:2000])\n",
    "vb_list=list(vb_2020)\n",
    "vb_sim={\"word\":[],\"cos_dist_08_20\":[]}\n",
    "for word in vb_list:\n",
    "    vb_sim[\"word\"].append(word)\n",
    "    word_2020=model_2020_aligned2_08.wv[word]\n",
    "    word_2008=model_2008.wv[word]    \n",
    "    word_sim=1-cosine(word_2020,word_2008)\n",
    "    vb_sim[\"cos_dist_08_20\"].append(word_sim)\n",
    "\n",
    "df_vb_sim=pd.DataFrame(vb_sim)\n",
    "sorted_df=df_vb_sim.sort_values(by=['cos_dist_08_20'],ascending=False)\n",
    "word_list=sorted_df['word'].to_list()\n",
    "#save to local file\n",
    "# sorted_df.to_excel(basecsvpath+\"_most_feq_2000.xls\")"
   ]
  },
  {
   "cell_type": "code",
   "execution_count": 6,
   "metadata": {},
   "outputs": [],
   "source": [
    "\n",
    "similar_words_list_kw=[]\n",
    "# keywords=['loss','train','solution','performance','attention','feature','training','learning','language']\n",
    "keywords=['slack','loss','spark','train','training','react','language','performance','learning','attention','feature','table','value','file']\n",
    "\n",
    "for kw in keywords:\n",
    "    similar_words_list_year=[]\n",
    "    kw_2020=model_2020_aligned2_08.wv[kw]\n",
    "    kw_2008=model_2008.wv[kw]\n",
    "    kw_similarity=1-cosine(kw_2020,kw_2008)\n",
    "    similar_words_list_year.append(kw_similarity)\n",
    "\n",
    "    similar_words_2008=model_2008.wv.similar_by_word(kw,topn=10)\n",
    "    similar_words_string_2008=\"\"\n",
    "    for word in similar_words_2008:\n",
    "        similar_words_string_2008+=word[0]+','\n",
    "    similar_words_list_year.append(similar_words_string_2008)\n",
    "\n",
    "\n",
    "    similar_words_2020=model_2020_aligned2_08.wv.similar_by_word(kw,topn=10)\n",
    "    similar_words_string_2020=\"\"\n",
    "    for word in similar_words_2020:\n",
    "        similar_words_string_2020+=word[0]+','\n",
    "    similar_words_list_year.append(similar_words_string_2020)\n",
    "    similar_words_list_kw.append(similar_words_list_year)\n",
    "\n",
    "    \n",
    "df = pd.DataFrame(similar_words_list_kw,\n",
    "                index=pd.Index(keywords),\n",
    "                columns=[\"cosine dist\",\"2008\",\"2020\"])\n",
    "srt_df=df.sort_values(by=['cosine dist'],ascending=False)\n",
    "#save to local file\n",
    "# srt_df.to_excel(basecsvpath+\"_08_20.xls\")\n"
   ]
  },
  {
   "cell_type": "code",
   "execution_count": 11,
   "metadata": {},
   "outputs": [
    {
     "data": {
      "text/html": [
       "<div>\n",
       "<style scoped>\n",
       "    .dataframe tbody tr th:only-of-type {\n",
       "        vertical-align: middle;\n",
       "    }\n",
       "\n",
       "    .dataframe tbody tr th {\n",
       "        vertical-align: top;\n",
       "    }\n",
       "\n",
       "    .dataframe thead th {\n",
       "        text-align: right;\n",
       "    }\n",
       "</style>\n",
       "<table border=\"1\" class=\"dataframe\">\n",
       "  <thead>\n",
       "    <tr style=\"text-align: right;\">\n",
       "      <th></th>\n",
       "      <th>cosine dist</th>\n",
       "      <th>2008</th>\n",
       "      <th>2020</th>\n",
       "    </tr>\n",
       "  </thead>\n",
       "  <tbody>\n",
       "    <tr>\n",
       "      <th>value</th>\n",
       "      <td>0.836556</td>\n",
       "      <td>return,val_val,field,null,string,result,array,...</td>\n",
       "      <td>array,column,row,field,key,number,length,item,...</td>\n",
       "    </tr>\n",
       "    <tr>\n",
       "      <th>file</th>\n",
       "      <td>0.824734</td>\n",
       "      <td>directory,folder,path,filename,myfile,getfile,...</td>\n",
       "      <td>folder,directory,path,filename,afile,myfile,tx...</td>\n",
       "    </tr>\n",
       "    <tr>\n",
       "      <th>table</th>\n",
       "      <td>0.814016</td>\n",
       "      <td>column,row,insert,record,query,yourtable,joine...</td>\n",
       "      <td>column,row,select,insert,mytable,tablea,query,...</td>\n",
       "    </tr>\n",
       "    <tr>\n",
       "      <th>performance</th>\n",
       "      <td>0.650823</td>\n",
       "      <td>speed,efficiency,throughput,slow,memory_usage,...</td>\n",
       "      <td>efficiency,overhead,speed,scalability,noticeab...</td>\n",
       "    </tr>\n",
       "    <tr>\n",
       "      <th>language</th>\n",
       "      <td>0.534138</td>\n",
       "      <td>programming_language,functional_programming,li...</td>\n",
       "      <td>french,english,programming_language,localizati...</td>\n",
       "    </tr>\n",
       "    <tr>\n",
       "      <th>feature</th>\n",
       "      <td>0.449138</td>\n",
       "      <td>functionality,support,tool,integration,develop...</td>\n",
       "      <td>vocabulary,train,functionality,bias,dataset,gr...</td>\n",
       "    </tr>\n",
       "    <tr>\n",
       "      <th>learning</th>\n",
       "      <td>0.417025</td>\n",
       "      <td>learn,programming,beginner,development,investm...</td>\n",
       "      <td>learn,neural_network,artificial,statistical,or...</td>\n",
       "    </tr>\n",
       "    <tr>\n",
       "      <th>attention</th>\n",
       "      <td>0.294231</td>\n",
       "      <td>education,meeting,reward,assistance,skill,ener...</td>\n",
       "      <td>penalty,weight,minimise,rtp,careful,decoder,en...</td>\n",
       "    </tr>\n",
       "    <tr>\n",
       "      <th>training</th>\n",
       "      <td>0.205380</td>\n",
       "      <td>certification,education,sponsor,certify,invest...</td>\n",
       "      <td>train,epoch,dataset,accuracy,critic,vocabulary...</td>\n",
       "    </tr>\n",
       "    <tr>\n",
       "      <th>react</th>\n",
       "      <td>0.165412</td>\n",
       "      <td>handle,fire,event_fire,event_listener,event,re...</td>\n",
       "      <td>component,js,app,css,render,javascript,jquery,...</td>\n",
       "    </tr>\n",
       "    <tr>\n",
       "      <th>slack</th>\n",
       "      <td>0.140154</td>\n",
       "      <td>wear,weekend,sick,day,young,mentor,coffee,rush...</td>\n",
       "      <td>bot,skype,webclient,channel,ebay,credential,gm...</td>\n",
       "    </tr>\n",
       "    <tr>\n",
       "      <th>train</th>\n",
       "      <td>0.135892</td>\n",
       "      <td>profession,mentor,skilled,staff,experienced,we...</td>\n",
       "      <td>training,dataset,np,sample,shuffle,prediction,...</td>\n",
       "    </tr>\n",
       "    <tr>\n",
       "      <th>loss</th>\n",
       "      <td>0.130439</td>\n",
       "      <td>lose,corruption,stability,saving,redundancy,in...</td>\n",
       "      <td>critic,accuracy,optimizer,epoch,bias,triplet,t...</td>\n",
       "    </tr>\n",
       "    <tr>\n",
       "      <th>spark</th>\n",
       "      <td>0.086293</td>\n",
       "      <td>idea,recaptcha,spirit,bright,pyqt,stumble,plt,...</td>\n",
       "      <td>scala,streamingcontext,mapreduce,hive,executor...</td>\n",
       "    </tr>\n",
       "  </tbody>\n",
       "</table>\n",
       "</div>"
      ],
      "text/plain": [
       "             cosine dist                                               2008  \\\n",
       "value           0.836556  return,val_val,field,null,string,result,array,...   \n",
       "file            0.824734  directory,folder,path,filename,myfile,getfile,...   \n",
       "table           0.814016  column,row,insert,record,query,yourtable,joine...   \n",
       "performance     0.650823  speed,efficiency,throughput,slow,memory_usage,...   \n",
       "language        0.534138  programming_language,functional_programming,li...   \n",
       "feature         0.449138  functionality,support,tool,integration,develop...   \n",
       "learning        0.417025  learn,programming,beginner,development,investm...   \n",
       "attention       0.294231  education,meeting,reward,assistance,skill,ener...   \n",
       "training        0.205380  certification,education,sponsor,certify,invest...   \n",
       "react           0.165412  handle,fire,event_fire,event_listener,event,re...   \n",
       "slack           0.140154  wear,weekend,sick,day,young,mentor,coffee,rush...   \n",
       "train           0.135892  profession,mentor,skilled,staff,experienced,we...   \n",
       "loss            0.130439  lose,corruption,stability,saving,redundancy,in...   \n",
       "spark           0.086293  idea,recaptcha,spirit,bright,pyqt,stumble,plt,...   \n",
       "\n",
       "                                                          2020  \n",
       "value        array,column,row,field,key,number,length,item,...  \n",
       "file         folder,directory,path,filename,afile,myfile,tx...  \n",
       "table        column,row,select,insert,mytable,tablea,query,...  \n",
       "performance  efficiency,overhead,speed,scalability,noticeab...  \n",
       "language     french,english,programming_language,localizati...  \n",
       "feature      vocabulary,train,functionality,bias,dataset,gr...  \n",
       "learning     learn,neural_network,artificial,statistical,or...  \n",
       "attention    penalty,weight,minimise,rtp,careful,decoder,en...  \n",
       "training     train,epoch,dataset,accuracy,critic,vocabulary...  \n",
       "react        component,js,app,css,render,javascript,jquery,...  \n",
       "slack        bot,skype,webclient,channel,ebay,credential,gm...  \n",
       "train        training,dataset,np,sample,shuffle,prediction,...  \n",
       "loss         critic,accuracy,optimizer,epoch,bias,triplet,t...  \n",
       "spark        scala,streamingcontext,mapreduce,hive,executor...  "
      ]
     },
     "execution_count": 11,
     "metadata": {},
     "output_type": "execute_result"
    }
   ],
   "source": [
    "srt_df"
   ]
  },
  {
   "cell_type": "markdown",
   "metadata": {},
   "source": [
    "#### Plot for PCA visualization\n",
    "\n",
    "the main func is a fork of the code here\n",
    "https://gist.github.com/marcellusruben/0be4e45eb342f664621166ed3c6e952f#file-pca_3d-py\n",
    "\n",
    "modify it to visualize word vectors from different time periods in 2d\n"
   ]
  },
  {
   "cell_type": "code",
   "execution_count": 7,
   "metadata": {},
   "outputs": [],
   "source": [
    "import matplotlib.pyplot as plt\n",
    "from sklearn.manifold import TSNE\n",
    "import numpy as np\n",
    "import plotly\n",
    "import plotly.graph_objs as go\n",
    "from sklearn.decomposition import PCA"
   ]
  },
  {
   "cell_type": "code",
   "execution_count": 8,
   "metadata": {},
   "outputs": [],
   "source": [
    "def append_list(sim_words, words):\n",
    "    \n",
    "    list_of_words = []\n",
    "    \n",
    "    for i in range(len(sim_words)):\n",
    "        \n",
    "        sim_words_list = list(sim_words[i])\n",
    "        sim_words_list.append(words)\n",
    "        sim_words_tuple = tuple(sim_words_list)\n",
    "        list_of_words.append(sim_words_tuple)\n",
    "        \n",
    "    return list_of_words\n",
    "\n",
    "\n",
    "\n",
    "def pca_scatter(model_1,model_2, user_input=None, words=None, label=None, color_map=None, topn=10, sample=10):\n",
    "    \n",
    "\n",
    "    w1=words[0:10]\n",
    "    w2=words[10:20]\n",
    "    inputs=words[20:22]\n",
    "    word_vectors_1 = np.array([model_1[w] for w in w1])\n",
    "    word_vectors_2 = np.array([model_2[w] for w in w2])\n",
    "    word_vectors_3 = np.array([model_1[w.split(\"-\")[0]] for w in [inputs[0]]])\n",
    "    word_vectors_4 = np.array([model_2[w.split(\"-\")[0]] for w in [inputs[1]]])\n",
    "    word_vectors=np.concatenate((word_vectors_1,word_vectors_2,word_vectors_3,word_vectors_4))\n",
    "    two_dim = PCA(random_state=0).fit_transform(word_vectors)[:,:2]\n",
    "\n",
    "    data = []\n",
    "    count = 0\n",
    "    \n",
    "    for i in range (len(user_input)):\n",
    "\n",
    "                trace = go.Scatter(\n",
    "                    x = two_dim[count:count+topn,0], \n",
    "                    y = two_dim[count:count+topn,1],  \n",
    "                    text = words[count:count+topn],\n",
    "                    name = user_input[i],\n",
    "                    textposition = \"bottom center\",\n",
    "                    textfont_size = 20,\n",
    "                    mode = 'markers+text',\n",
    "                    marker = {\n",
    "                        'size': 10,\n",
    "                        'opacity': 0.8,\n",
    "                        'color': 2\n",
    "                    }\n",
    "       \n",
    "                )\n",
    "                \n",
    "            \n",
    "                data.append(trace)\n",
    "                count = count+topn\n",
    "\n",
    "    trace_input = go.Scatter(\n",
    "                    x = two_dim[count:,0], \n",
    "                    y = two_dim[count:,1],  \n",
    "                    text = words[count:],\n",
    "                    name = 'target word',\n",
    "                    textposition = \"bottom center\",\n",
    "                    textfont_size = 20,\n",
    "                    mode = 'markers+text',\n",
    "                    marker = {\n",
    "                        'size': 10,\n",
    "                        'opacity': 1,\n",
    "                        'color': 'black'\n",
    "                    }\n",
    "                    )\n",
    "           \n",
    "    data.append(trace_input)\n",
    "    \n",
    "\n",
    "    layout = go.Layout(\n",
    "        margin = {'l': 0, 'r': 0, 'b': 0, 't': 0},\n",
    "        showlegend=True,\n",
    "        legend=dict(\n",
    "        x=0.4,\n",
    "        y=-0.2,\n",
    "        font=dict(\n",
    "            family=\"Courier New\",\n",
    "            size=25,\n",
    "            color=\"black\"\n",
    "        )),\n",
    "        font = dict(\n",
    "            family = \" Courier New \",\n",
    "            size = 15),\n",
    "        autosize = False,\n",
    "        width = 1000,\n",
    "        height = 1300\n",
    "        )\n",
    "\n",
    "\n",
    "    plot_figure = go.Figure(data = data, layout = layout)\n",
    "    plot_figure.show()\n",
    "    "
   ]
  },
  {
   "cell_type": "code",
   "execution_count": 9,
   "metadata": {},
   "outputs": [],
   "source": [
    "ml_user_input = ['loss-2008','loss-2016']\n",
    "ml_result_word = []\n",
    "\n",
    "for words in ml_user_input:\n",
    "    if words.split(\"-\")[1]==\"2008\":\n",
    "        sim_words = model_2008.wv.most_similar(words.split(\"-\")[0], topn=10)\n",
    "        sim_words = append_list(sim_words, words)\n",
    "    else:\n",
    "        sim_words = model_2020_aligned2_08.wv.most_similar(words.split(\"-\")[0], topn=10)\n",
    "        sim_words = append_list(sim_words, words)\n",
    "        \n",
    "    ml_result_word.extend(sim_words)\n",
    "\n",
    "ml_similar_word = [word[0] for word in ml_result_word]\n",
    "ml_similar_word.extend(ml_user_input)\n",
    "labels = [word[2] for word in ml_result_word]\n",
    "label_dict = dict([(y,x+1) for x,y in enumerate(set(labels))])\n",
    "color_map = [label_dict[x] for x in labels]"
   ]
  },
  {
   "cell_type": "code",
   "execution_count": 10,
   "metadata": {},
   "outputs": [
    {
     "data": {
      "application/vnd.plotly.v1+json": {
       "config": {
        "plotlyServerURL": "https://plot.ly"
       },
       "data": [
        {
         "marker": {
          "color": 2,
          "opacity": 0.8,
          "size": 10
         },
         "mode": "markers+text",
         "name": "loss-2008",
         "text": [
          "lose",
          "corruption",
          "stability",
          "saving",
          "redundancy",
          "inconsistency",
          "issue",
          "accuracy",
          "gain",
          "problem"
         ],
         "textfont": {
          "size": 20
         },
         "textposition": "bottom center",
         "type": "scatter",
         "x": [
          0.3278089165687561,
          0.46323227882385254,
          0.3677636682987213,
          0.23950228095054626,
          0.3015534281730652,
          0.5283277034759521,
          0.6179037690162659,
          0.08981665968894958,
          0.2059616595506668,
          0.5507982969284058
         ],
         "y": [
          0.46287229657173157,
          -0.2002677619457245,
          0.18956154584884644,
          0.22414496541023254,
          0.12359176576137543,
          -0.2559366226196289,
          -0.42645663022994995,
          0.15038767457008362,
          0.5807206034660339,
          -0.5160123109817505
         ]
        },
        {
         "marker": {
          "color": 2,
          "opacity": 0.8,
          "size": 10
         },
         "mode": "markers+text",
         "name": "loss-2016",
         "text": [
          "critic",
          "accuracy",
          "optimizer",
          "epoch",
          "bias",
          "triplet",
          "train",
          "grad",
          "profit",
          "likelihood"
         ],
         "textfont": {
          "size": 20
         },
         "textposition": "bottom center",
         "type": "scatter",
         "x": [
          -0.45237594842910767,
          -0.22704492509365082,
          -0.41370904445648193,
          -0.4079269766807556,
          -0.3315618932247162,
          -0.4941726624965668,
          -0.4835946559906006,
          -0.5346616506576538,
          -0.23624396324157715,
          -0.15499433875083923
         ],
         "y": [
          -0.09220048785209656,
          -0.16203153133392334,
          -0.06951800733804703,
          -0.028445804491639137,
          -0.09902610629796982,
          -0.15725575387477875,
          -0.015018011443316936,
          0.038159891963005066,
          0.11472132056951523,
          -0.02387172356247902
         ]
        },
        {
         "marker": {
          "color": "black",
          "opacity": 1,
          "size": 10
         },
         "mode": "markers+text",
         "name": "target word",
         "text": [
          "loss-2008",
          "loss-2016"
         ],
         "textfont": {
          "size": 20
         },
         "textposition": "bottom center",
         "type": "scatter",
         "x": [
          0.45336198806762695,
          -0.4097442626953125
         ],
         "y": [
          0.23597142100334167,
          -0.07409057021141052
         ]
        }
       ],
       "layout": {
        "autosize": false,
        "font": {
         "family": " Courier New ",
         "size": 15
        },
        "height": 1300,
        "legend": {
         "font": {
          "color": "black",
          "family": "Courier New",
          "size": 25
         },
         "x": 0.4,
         "y": -0.2
        },
        "margin": {
         "b": 0,
         "l": 0,
         "r": 0,
         "t": 0
        },
        "showlegend": true,
        "template": {
         "data": {
          "bar": [
           {
            "error_x": {
             "color": "#2a3f5f"
            },
            "error_y": {
             "color": "#2a3f5f"
            },
            "marker": {
             "line": {
              "color": "#E5ECF6",
              "width": 0.5
             },
             "pattern": {
              "fillmode": "overlay",
              "size": 10,
              "solidity": 0.2
             }
            },
            "type": "bar"
           }
          ],
          "barpolar": [
           {
            "marker": {
             "line": {
              "color": "#E5ECF6",
              "width": 0.5
             },
             "pattern": {
              "fillmode": "overlay",
              "size": 10,
              "solidity": 0.2
             }
            },
            "type": "barpolar"
           }
          ],
          "carpet": [
           {
            "aaxis": {
             "endlinecolor": "#2a3f5f",
             "gridcolor": "white",
             "linecolor": "white",
             "minorgridcolor": "white",
             "startlinecolor": "#2a3f5f"
            },
            "baxis": {
             "endlinecolor": "#2a3f5f",
             "gridcolor": "white",
             "linecolor": "white",
             "minorgridcolor": "white",
             "startlinecolor": "#2a3f5f"
            },
            "type": "carpet"
           }
          ],
          "choropleth": [
           {
            "colorbar": {
             "outlinewidth": 0,
             "ticks": ""
            },
            "type": "choropleth"
           }
          ],
          "contour": [
           {
            "colorbar": {
             "outlinewidth": 0,
             "ticks": ""
            },
            "colorscale": [
             [
              0,
              "#0d0887"
             ],
             [
              0.1111111111111111,
              "#46039f"
             ],
             [
              0.2222222222222222,
              "#7201a8"
             ],
             [
              0.3333333333333333,
              "#9c179e"
             ],
             [
              0.4444444444444444,
              "#bd3786"
             ],
             [
              0.5555555555555556,
              "#d8576b"
             ],
             [
              0.6666666666666666,
              "#ed7953"
             ],
             [
              0.7777777777777778,
              "#fb9f3a"
             ],
             [
              0.8888888888888888,
              "#fdca26"
             ],
             [
              1,
              "#f0f921"
             ]
            ],
            "type": "contour"
           }
          ],
          "contourcarpet": [
           {
            "colorbar": {
             "outlinewidth": 0,
             "ticks": ""
            },
            "type": "contourcarpet"
           }
          ],
          "heatmap": [
           {
            "colorbar": {
             "outlinewidth": 0,
             "ticks": ""
            },
            "colorscale": [
             [
              0,
              "#0d0887"
             ],
             [
              0.1111111111111111,
              "#46039f"
             ],
             [
              0.2222222222222222,
              "#7201a8"
             ],
             [
              0.3333333333333333,
              "#9c179e"
             ],
             [
              0.4444444444444444,
              "#bd3786"
             ],
             [
              0.5555555555555556,
              "#d8576b"
             ],
             [
              0.6666666666666666,
              "#ed7953"
             ],
             [
              0.7777777777777778,
              "#fb9f3a"
             ],
             [
              0.8888888888888888,
              "#fdca26"
             ],
             [
              1,
              "#f0f921"
             ]
            ],
            "type": "heatmap"
           }
          ],
          "heatmapgl": [
           {
            "colorbar": {
             "outlinewidth": 0,
             "ticks": ""
            },
            "colorscale": [
             [
              0,
              "#0d0887"
             ],
             [
              0.1111111111111111,
              "#46039f"
             ],
             [
              0.2222222222222222,
              "#7201a8"
             ],
             [
              0.3333333333333333,
              "#9c179e"
             ],
             [
              0.4444444444444444,
              "#bd3786"
             ],
             [
              0.5555555555555556,
              "#d8576b"
             ],
             [
              0.6666666666666666,
              "#ed7953"
             ],
             [
              0.7777777777777778,
              "#fb9f3a"
             ],
             [
              0.8888888888888888,
              "#fdca26"
             ],
             [
              1,
              "#f0f921"
             ]
            ],
            "type": "heatmapgl"
           }
          ],
          "histogram": [
           {
            "marker": {
             "pattern": {
              "fillmode": "overlay",
              "size": 10,
              "solidity": 0.2
             }
            },
            "type": "histogram"
           }
          ],
          "histogram2d": [
           {
            "colorbar": {
             "outlinewidth": 0,
             "ticks": ""
            },
            "colorscale": [
             [
              0,
              "#0d0887"
             ],
             [
              0.1111111111111111,
              "#46039f"
             ],
             [
              0.2222222222222222,
              "#7201a8"
             ],
             [
              0.3333333333333333,
              "#9c179e"
             ],
             [
              0.4444444444444444,
              "#bd3786"
             ],
             [
              0.5555555555555556,
              "#d8576b"
             ],
             [
              0.6666666666666666,
              "#ed7953"
             ],
             [
              0.7777777777777778,
              "#fb9f3a"
             ],
             [
              0.8888888888888888,
              "#fdca26"
             ],
             [
              1,
              "#f0f921"
             ]
            ],
            "type": "histogram2d"
           }
          ],
          "histogram2dcontour": [
           {
            "colorbar": {
             "outlinewidth": 0,
             "ticks": ""
            },
            "colorscale": [
             [
              0,
              "#0d0887"
             ],
             [
              0.1111111111111111,
              "#46039f"
             ],
             [
              0.2222222222222222,
              "#7201a8"
             ],
             [
              0.3333333333333333,
              "#9c179e"
             ],
             [
              0.4444444444444444,
              "#bd3786"
             ],
             [
              0.5555555555555556,
              "#d8576b"
             ],
             [
              0.6666666666666666,
              "#ed7953"
             ],
             [
              0.7777777777777778,
              "#fb9f3a"
             ],
             [
              0.8888888888888888,
              "#fdca26"
             ],
             [
              1,
              "#f0f921"
             ]
            ],
            "type": "histogram2dcontour"
           }
          ],
          "mesh3d": [
           {
            "colorbar": {
             "outlinewidth": 0,
             "ticks": ""
            },
            "type": "mesh3d"
           }
          ],
          "parcoords": [
           {
            "line": {
             "colorbar": {
              "outlinewidth": 0,
              "ticks": ""
             }
            },
            "type": "parcoords"
           }
          ],
          "pie": [
           {
            "automargin": true,
            "type": "pie"
           }
          ],
          "scatter": [
           {
            "marker": {
             "colorbar": {
              "outlinewidth": 0,
              "ticks": ""
             }
            },
            "type": "scatter"
           }
          ],
          "scatter3d": [
           {
            "line": {
             "colorbar": {
              "outlinewidth": 0,
              "ticks": ""
             }
            },
            "marker": {
             "colorbar": {
              "outlinewidth": 0,
              "ticks": ""
             }
            },
            "type": "scatter3d"
           }
          ],
          "scattercarpet": [
           {
            "marker": {
             "colorbar": {
              "outlinewidth": 0,
              "ticks": ""
             }
            },
            "type": "scattercarpet"
           }
          ],
          "scattergeo": [
           {
            "marker": {
             "colorbar": {
              "outlinewidth": 0,
              "ticks": ""
             }
            },
            "type": "scattergeo"
           }
          ],
          "scattergl": [
           {
            "marker": {
             "colorbar": {
              "outlinewidth": 0,
              "ticks": ""
             }
            },
            "type": "scattergl"
           }
          ],
          "scattermapbox": [
           {
            "marker": {
             "colorbar": {
              "outlinewidth": 0,
              "ticks": ""
             }
            },
            "type": "scattermapbox"
           }
          ],
          "scatterpolar": [
           {
            "marker": {
             "colorbar": {
              "outlinewidth": 0,
              "ticks": ""
             }
            },
            "type": "scatterpolar"
           }
          ],
          "scatterpolargl": [
           {
            "marker": {
             "colorbar": {
              "outlinewidth": 0,
              "ticks": ""
             }
            },
            "type": "scatterpolargl"
           }
          ],
          "scatterternary": [
           {
            "marker": {
             "colorbar": {
              "outlinewidth": 0,
              "ticks": ""
             }
            },
            "type": "scatterternary"
           }
          ],
          "surface": [
           {
            "colorbar": {
             "outlinewidth": 0,
             "ticks": ""
            },
            "colorscale": [
             [
              0,
              "#0d0887"
             ],
             [
              0.1111111111111111,
              "#46039f"
             ],
             [
              0.2222222222222222,
              "#7201a8"
             ],
             [
              0.3333333333333333,
              "#9c179e"
             ],
             [
              0.4444444444444444,
              "#bd3786"
             ],
             [
              0.5555555555555556,
              "#d8576b"
             ],
             [
              0.6666666666666666,
              "#ed7953"
             ],
             [
              0.7777777777777778,
              "#fb9f3a"
             ],
             [
              0.8888888888888888,
              "#fdca26"
             ],
             [
              1,
              "#f0f921"
             ]
            ],
            "type": "surface"
           }
          ],
          "table": [
           {
            "cells": {
             "fill": {
              "color": "#EBF0F8"
             },
             "line": {
              "color": "white"
             }
            },
            "header": {
             "fill": {
              "color": "#C8D4E3"
             },
             "line": {
              "color": "white"
             }
            },
            "type": "table"
           }
          ]
         },
         "layout": {
          "annotationdefaults": {
           "arrowcolor": "#2a3f5f",
           "arrowhead": 0,
           "arrowwidth": 1
          },
          "autotypenumbers": "strict",
          "coloraxis": {
           "colorbar": {
            "outlinewidth": 0,
            "ticks": ""
           }
          },
          "colorscale": {
           "diverging": [
            [
             0,
             "#8e0152"
            ],
            [
             0.1,
             "#c51b7d"
            ],
            [
             0.2,
             "#de77ae"
            ],
            [
             0.3,
             "#f1b6da"
            ],
            [
             0.4,
             "#fde0ef"
            ],
            [
             0.5,
             "#f7f7f7"
            ],
            [
             0.6,
             "#e6f5d0"
            ],
            [
             0.7,
             "#b8e186"
            ],
            [
             0.8,
             "#7fbc41"
            ],
            [
             0.9,
             "#4d9221"
            ],
            [
             1,
             "#276419"
            ]
           ],
           "sequential": [
            [
             0,
             "#0d0887"
            ],
            [
             0.1111111111111111,
             "#46039f"
            ],
            [
             0.2222222222222222,
             "#7201a8"
            ],
            [
             0.3333333333333333,
             "#9c179e"
            ],
            [
             0.4444444444444444,
             "#bd3786"
            ],
            [
             0.5555555555555556,
             "#d8576b"
            ],
            [
             0.6666666666666666,
             "#ed7953"
            ],
            [
             0.7777777777777778,
             "#fb9f3a"
            ],
            [
             0.8888888888888888,
             "#fdca26"
            ],
            [
             1,
             "#f0f921"
            ]
           ],
           "sequentialminus": [
            [
             0,
             "#0d0887"
            ],
            [
             0.1111111111111111,
             "#46039f"
            ],
            [
             0.2222222222222222,
             "#7201a8"
            ],
            [
             0.3333333333333333,
             "#9c179e"
            ],
            [
             0.4444444444444444,
             "#bd3786"
            ],
            [
             0.5555555555555556,
             "#d8576b"
            ],
            [
             0.6666666666666666,
             "#ed7953"
            ],
            [
             0.7777777777777778,
             "#fb9f3a"
            ],
            [
             0.8888888888888888,
             "#fdca26"
            ],
            [
             1,
             "#f0f921"
            ]
           ]
          },
          "colorway": [
           "#636efa",
           "#EF553B",
           "#00cc96",
           "#ab63fa",
           "#FFA15A",
           "#19d3f3",
           "#FF6692",
           "#B6E880",
           "#FF97FF",
           "#FECB52"
          ],
          "font": {
           "color": "#2a3f5f"
          },
          "geo": {
           "bgcolor": "white",
           "lakecolor": "white",
           "landcolor": "#E5ECF6",
           "showlakes": true,
           "showland": true,
           "subunitcolor": "white"
          },
          "hoverlabel": {
           "align": "left"
          },
          "hovermode": "closest",
          "mapbox": {
           "style": "light"
          },
          "paper_bgcolor": "white",
          "plot_bgcolor": "#E5ECF6",
          "polar": {
           "angularaxis": {
            "gridcolor": "white",
            "linecolor": "white",
            "ticks": ""
           },
           "bgcolor": "#E5ECF6",
           "radialaxis": {
            "gridcolor": "white",
            "linecolor": "white",
            "ticks": ""
           }
          },
          "scene": {
           "xaxis": {
            "backgroundcolor": "#E5ECF6",
            "gridcolor": "white",
            "gridwidth": 2,
            "linecolor": "white",
            "showbackground": true,
            "ticks": "",
            "zerolinecolor": "white"
           },
           "yaxis": {
            "backgroundcolor": "#E5ECF6",
            "gridcolor": "white",
            "gridwidth": 2,
            "linecolor": "white",
            "showbackground": true,
            "ticks": "",
            "zerolinecolor": "white"
           },
           "zaxis": {
            "backgroundcolor": "#E5ECF6",
            "gridcolor": "white",
            "gridwidth": 2,
            "linecolor": "white",
            "showbackground": true,
            "ticks": "",
            "zerolinecolor": "white"
           }
          },
          "shapedefaults": {
           "line": {
            "color": "#2a3f5f"
           }
          },
          "ternary": {
           "aaxis": {
            "gridcolor": "white",
            "linecolor": "white",
            "ticks": ""
           },
           "baxis": {
            "gridcolor": "white",
            "linecolor": "white",
            "ticks": ""
           },
           "bgcolor": "#E5ECF6",
           "caxis": {
            "gridcolor": "white",
            "linecolor": "white",
            "ticks": ""
           }
          },
          "title": {
           "x": 0.05
          },
          "xaxis": {
           "automargin": true,
           "gridcolor": "white",
           "linecolor": "white",
           "ticks": "",
           "title": {
            "standoff": 15
           },
           "zerolinecolor": "white",
           "zerolinewidth": 2
          },
          "yaxis": {
           "automargin": true,
           "gridcolor": "white",
           "linecolor": "white",
           "ticks": "",
           "title": {
            "standoff": 15
           },
           "zerolinecolor": "white",
           "zerolinewidth": 2
          }
         }
        },
        "width": 1000
       }
      }
     },
     "metadata": {},
     "output_type": "display_data"
    }
   ],
   "source": [
    "pca_scatter(model_2008.wv,model_2020_aligned2_08.wv, ml_user_input, ml_similar_word, color_map)"
   ]
  },
  {
   "cell_type": "code",
   "execution_count": null,
   "metadata": {},
   "outputs": [],
   "source": []
  }
 ],
 "metadata": {
  "interpreter": {
   "hash": "41231adc3f1f34c96ecc8680d6e9ec5409d4234e793d382f7cb815729e367cbe"
  },
  "kernelspec": {
   "display_name": "Python 3.8.8 ('base')",
   "language": "python",
   "name": "python3"
  },
  "language_info": {
   "codemirror_mode": {
    "name": "ipython",
    "version": 3
   },
   "file_extension": ".py",
   "mimetype": "text/x-python",
   "name": "python",
   "nbconvert_exporter": "python",
   "pygments_lexer": "ipython3",
   "version": "3.8.8"
  },
  "orig_nbformat": 4
 },
 "nbformat": 4,
 "nbformat_minor": 2
}
