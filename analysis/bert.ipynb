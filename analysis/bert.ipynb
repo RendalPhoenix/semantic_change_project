{
 "cells": [
  {
   "cell_type": "code",
   "execution_count": 1,
   "metadata": {},
   "outputs": [],
   "source": [
    "from transformers import BertTokenizer, BertModel\n",
    "import pandas as pd\n",
    "import numpy as np\n",
    "import nltk\n",
    "import torch\n",
    "import pickle\n",
    "from tqdm import tqdm\n",
    "from scipy.spatial.distance import cosine\n",
    "basecsvpath=\"/data/preped_annual_data/\"\n",
    "basepklspath=\"/data/pkl_sents/\"\n",
    "baseoutpath=\"/data/preped_annual_data/bert_embs/\""
   ]
  },
  {
   "cell_type": "code",
   "execution_count": 2,
   "metadata": {},
   "outputs": [],
   "source": [
    "yearlist=[\"2008\",\"2009\",\"2010\",\"2011\",\"2012\",\"2013\",\"2014\",\"2015\",\"2016\",\"2017\",\"2019\",\"2020\"]\n",
    "\n",
    "# keyword='performance'\n",
    "keywordlist=['performance','attention','feature','programming','training','learning']\n"
   ]
  },
  {
   "cell_type": "code",
   "execution_count": 3,
   "metadata": {},
   "outputs": [],
   "source": [
    "result={\"word\":[],\"cos_dist_08_16\":[]}\n",
    "for keyword in keywordlist:\n",
    "    year='2016'\n",
    "    with open(baseoutpath+year+'_'+keyword+'_embs.pkl', 'rb') as f:\n",
    "        prg_2020=pickle.load(f)\n",
    "    year1='2008'\n",
    "    with open(baseoutpath+year1+'_'+keyword+'_embs.pkl', 'rb') as f:\n",
    "        prg_2008=pickle.load(f)\n",
    "    cos_dist = 1 - cosine(prg_2020,prg_2008)\n",
    "    result[\"word\"].append(keyword)\n",
    "    result[\"cos_dist_08_16\"].append(cos_dist)"
   ]
  },
  {
   "cell_type": "code",
   "execution_count": 4,
   "metadata": {},
   "outputs": [
    {
     "data": {
      "text/html": [
       "<div>\n",
       "<style scoped>\n",
       "    .dataframe tbody tr th:only-of-type {\n",
       "        vertical-align: middle;\n",
       "    }\n",
       "\n",
       "    .dataframe tbody tr th {\n",
       "        vertical-align: top;\n",
       "    }\n",
       "\n",
       "    .dataframe thead th {\n",
       "        text-align: right;\n",
       "    }\n",
       "</style>\n",
       "<table border=\"1\" class=\"dataframe\">\n",
       "  <thead>\n",
       "    <tr style=\"text-align: right;\">\n",
       "      <th></th>\n",
       "      <th>word</th>\n",
       "      <th>cos_dist_08_16</th>\n",
       "    </tr>\n",
       "  </thead>\n",
       "  <tbody>\n",
       "    <tr>\n",
       "      <th>4</th>\n",
       "      <td>training</td>\n",
       "      <td>0.939652</td>\n",
       "    </tr>\n",
       "    <tr>\n",
       "      <th>1</th>\n",
       "      <td>attention</td>\n",
       "      <td>0.972086</td>\n",
       "    </tr>\n",
       "    <tr>\n",
       "      <th>5</th>\n",
       "      <td>learning</td>\n",
       "      <td>0.977649</td>\n",
       "    </tr>\n",
       "    <tr>\n",
       "      <th>3</th>\n",
       "      <td>programming</td>\n",
       "      <td>0.992906</td>\n",
       "    </tr>\n",
       "    <tr>\n",
       "      <th>2</th>\n",
       "      <td>feature</td>\n",
       "      <td>0.993768</td>\n",
       "    </tr>\n",
       "    <tr>\n",
       "      <th>0</th>\n",
       "      <td>performance</td>\n",
       "      <td>0.997376</td>\n",
       "    </tr>\n",
       "  </tbody>\n",
       "</table>\n",
       "</div>"
      ],
      "text/plain": [
       "          word  cos_dist_08_16\n",
       "4     training        0.939652\n",
       "1    attention        0.972086\n",
       "5     learning        0.977649\n",
       "3  programming        0.992906\n",
       "2      feature        0.993768\n",
       "0  performance        0.997376"
      ]
     },
     "execution_count": 4,
     "metadata": {},
     "output_type": "execute_result"
    }
   ],
   "source": [
    "df_result=pd.DataFrame(result)\n",
    "df_result.sort_values(by=[\"cos_dist_08_16\"])\n",
    "#save to local file\n",
    "# srt_df.to_excel(basecsvpath+\"_08_20.xls\")"
   ]
  },
  {
   "cell_type": "code",
   "execution_count": null,
   "metadata": {},
   "outputs": [],
   "source": []
  }
 ],
 "metadata": {
  "interpreter": {
   "hash": "41231adc3f1f34c96ecc8680d6e9ec5409d4234e793d382f7cb815729e367cbe"
  },
  "kernelspec": {
   "display_name": "Python 3.8.8 ('base')",
   "language": "python",
   "name": "python3"
  },
  "language_info": {
   "codemirror_mode": {
    "name": "ipython",
    "version": 3
   },
   "file_extension": ".py",
   "mimetype": "text/x-python",
   "name": "python",
   "nbconvert_exporter": "python",
   "pygments_lexer": "ipython3",
   "version": "3.8.8"
  },
  "orig_nbformat": 4
 },
 "nbformat": 4,
 "nbformat_minor": 2
}
