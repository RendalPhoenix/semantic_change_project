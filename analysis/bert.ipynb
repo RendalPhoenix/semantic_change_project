{
 "cells": [
  {
   "cell_type": "code",
   "execution_count": null,
   "metadata": {},
   "outputs": [],
   "source": [
    "from transformers import BertTokenizer, BertModel\n",
    "import pandas as pd\n",
    "import numpy as np\n",
    "import nltk\n",
    "import torch\n",
    "import pickle\n",
    "from tqdm import tqdm\n",
    "from scipy.spatial.distance import cosine\n",
    "basecsvpath=\"/data/preped_annual_data/\"\n",
    "basepklspath=\"/data/pkl_sents/\"\n",
    "baseoutpath=\"/data/preped_annual_data/bert_embs/\""
   ]
  },
  {
   "cell_type": "code",
   "execution_count": null,
   "metadata": {},
   "outputs": [],
   "source": [
    "yearlist=[\"2008\",\"2009\",\"2010\",\"2011\",\"2012\",\"2013\",\"2014\",\"2015\",\"2016\",\"2017\",\"2019\",\"2020\"]\n",
    "\n",
    "# keyword='performance'\n",
    "keywordlist=['performance','attention','feature','programming','training','learning']\n"
   ]
  },
  {
   "cell_type": "code",
   "execution_count": null,
   "metadata": {},
   "outputs": [],
   "source": [
    "result={\"word\":[],\"cos_dist_08_16\":[]}\n",
    "for keyword in keywordlist:\n",
    "    year='2016'\n",
    "    with open(baseoutpath+year+'_'+keyword+'_embs.pkl', 'rb') as f:\n",
    "        prg_2020=pickle.load(f)\n",
    "    year1='2008'\n",
    "    with open(baseoutpath+year1+'_'+keyword+'_embs.pkl', 'rb') as f:\n",
    "        prg_2008=pickle.load(f)\n",
    "    cos_dist = 1 - cosine(prg_2020,prg_2008)\n",
    "    result[\"word\"].append(keyword)\n",
    "    result[\"cos_dist_08_16\"].append(cos_dist)"
   ]
  },
  {
   "cell_type": "code",
   "execution_count": null,
   "metadata": {},
   "outputs": [],
   "source": [
    "df_result=pd.DataFrame(result)\n",
    "df_result.sort_values(by=[\"cos_dist_08_16\"])\n",
    "#save to local file\n",
    "# srt_df.to_excel(basecsvpath+\"_08_20.xls\")"
   ]
  }
 ],
 "metadata": {
  "language_info": {
   "name": "python"
  },
  "orig_nbformat": 4
 },
 "nbformat": 4,
 "nbformat_minor": 2
}
